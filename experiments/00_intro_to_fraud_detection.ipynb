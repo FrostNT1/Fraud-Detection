{
 "cells": [
  {
   "cell_type": "markdown",
   "metadata": {},
   "source": [
    "# Credit Card Fraud Detection System\n",
    "\n",
    "It is important that banks are able to recognize fraudulent credit card transactions so that customers are not charged for items that they did not purchase. So I have built a model which is able to identity which activity is suspicious and possibly fraudulent.\n",
    "\n",
    "   ### Content\n",
    "    The datasets contains transactions made by credit cards in September 2013 by european cardholders.\n",
    "    This dataset presents transactions that occurred in two days, where we have 492 frauds out of 284,807 transactions. The dataset is highly unbalanced, the positive class (frauds) account for 0.172% of all transactions.\n",
    "\n",
    "    It contains only numerical input variables which are the result of a PCA transformation. Unfortunately, due to confidentiality issues, we cannot provide the original features and more background information about the data. Features V1, V2, … V28 are the principal components obtained with PCA, the only features which have not been transformed with PCA are 'Time' and 'Amount'. Feature 'Time' contains the seconds elapsed between each transaction and the first transaction in the dataset. The feature 'Amount' is the transaction Amount, this feature can be used for example-dependant cost-senstive learning. Feature 'Class' is the response variable and it takes value 1 in case of fraud and 0 otherwise.\n",
    "\n",
    "\n",
    "`Note: The dataset was taken from Kaggle.`"
   ]
  },
  {
   "cell_type": "code",
   "execution_count": 1,
   "metadata": {},
   "outputs": [],
   "source": [
    "# Importing Libraries\n",
    "import seaborn as sns\n",
    "import numpy as np\n",
    "import matplotlib.pyplot as plt\n",
    "import pandas as pd"
   ]
  },
  {
   "cell_type": "code",
   "execution_count": 2,
   "metadata": {},
   "outputs": [],
   "source": [
    "# Importing the Dataset\n",
    "df = pd.read_csv(\"creditcard.csv\")"
   ]
  },
  {
   "cell_type": "markdown",
   "metadata": {},
   "source": [
    "Lets have a look at how much pre-processing is required."
   ]
  },
  {
   "cell_type": "code",
   "execution_count": 3,
   "metadata": {},
   "outputs": [
    {
     "name": "stdout",
     "output_type": "stream",
     "text": [
      "0\n"
     ]
    }
   ],
   "source": [
    "# How many null values do we have?\n",
    "print(df.isnull().sum().max())\n",
    "# That is great"
   ]
  },
  {
   "cell_type": "code",
   "execution_count": 4,
   "metadata": {},
   "outputs": [
    {
     "name": "stdout",
     "output_type": "stream",
     "text": [
      "99.82725143693798\n"
     ]
    }
   ],
   "source": [
    "print(df['Class'].value_counts()[0]/len(df)*100)"
   ]
  },
  {
   "cell_type": "markdown",
   "metadata": {},
   "source": [
    "This shows us that the data is highly skewed.\n",
    "Lets take a look at this visually."
   ]
  },
  {
   "cell_type": "code",
   "execution_count": 5,
   "metadata": {},
   "outputs": [
    {
     "data": {
      "image/png": "[encoded data removed]",
      "text/plain": [
       "<Figure size 432x288 with 1 Axes>"
      ]
     },
     "metadata": {
      "needs_background": "light"
     },
     "output_type": "display_data"
    }
   ],
   "source": [
    "sns.countplot('Class', data=df)\n",
    "plt.title(\"Distributions\")\n",
    "plt.show()"
   ]
  },
  {
   "cell_type": "markdown",
   "metadata": {},
   "source": [
    "To manage this problem, we can create samples from the data where the distribution of the cases we have are nearly equal."
   ]
  },
  {
   "cell_type": "code",
   "execution_count": 6,
   "metadata": {},
   "outputs": [
    {
     "name": "stdout",
     "output_type": "stream",
     "text": [
      "492\n"
     ]
    },
    {
     "data": {
      "text/html": [
       "<div>\n",
       "<style scoped>\n",
       "    .dataframe tbody tr th:only-of-type {\n",
       "        vertical-align: middle;\n",
       "    }\n",
       "\n",
       "    .dataframe tbody tr th {\n",
       "        vertical-align: top;\n",
       "    }\n",
       "\n",
       "    .dataframe thead th {\n",
       "        text-align: right;\n",
       "    }\n",
       "</style>\n",
       "<table border=\"1\" class=\"dataframe\">\n",
       "  <thead>\n",
       "    <tr style=\"text-align: right;\">\n",
       "      <th></th>\n",
       "      <th>Time</th>\n",
       "      <th>V1</th>\n",
       "      <th>V2</th>\n",
       "      <th>V3</th>\n",
       "      <th>V4</th>\n",
       "      <th>V5</th>\n",
       "      <th>V6</th>\n",
       "      <th>V7</th>\n",
       "      <th>V8</th>\n",
       "      <th>V9</th>\n",
       "      <th>...</th>\n",
       "      <th>V21</th>\n",
       "      <th>V22</th>\n",
       "      <th>V23</th>\n",
       "      <th>V24</th>\n",
       "      <th>V25</th>\n",
       "      <th>V26</th>\n",
       "      <th>V27</th>\n",
       "      <th>V28</th>\n",
       "      <th>Amount</th>\n",
       "      <th>Class</th>\n",
       "    </tr>\n",
       "  </thead>\n",
       "  <tbody>\n",
       "    <tr>\n",
       "      <th>42958</th>\n",
       "      <td>41313.0</td>\n",
       "      <td>-13.897206</td>\n",
       "      <td>6.344280</td>\n",
       "      <td>-14.281666</td>\n",
       "      <td>5.581009</td>\n",
       "      <td>-12.887133</td>\n",
       "      <td>-3.146176</td>\n",
       "      <td>-15.450467</td>\n",
       "      <td>9.060281</td>\n",
       "      <td>-5.486121</td>\n",
       "      <td>...</td>\n",
       "      <td>3.058082</td>\n",
       "      <td>0.941180</td>\n",
       "      <td>-0.232710</td>\n",
       "      <td>0.763508</td>\n",
       "      <td>0.075456</td>\n",
       "      <td>-0.453840</td>\n",
       "      <td>-1.508968</td>\n",
       "      <td>-0.686836</td>\n",
       "      <td>9.99</td>\n",
       "      <td>1</td>\n",
       "    </tr>\n",
       "    <tr>\n",
       "      <th>40952</th>\n",
       "      <td>40476.0</td>\n",
       "      <td>1.315771</td>\n",
       "      <td>-0.032971</td>\n",
       "      <td>-1.089771</td>\n",
       "      <td>-0.557242</td>\n",
       "      <td>2.030119</td>\n",
       "      <td>3.268061</td>\n",
       "      <td>-0.535246</td>\n",
       "      <td>0.808299</td>\n",
       "      <td>-0.052702</td>\n",
       "      <td>...</td>\n",
       "      <td>-0.313423</td>\n",
       "      <td>-1.068834</td>\n",
       "      <td>0.103964</td>\n",
       "      <td>0.992116</td>\n",
       "      <td>0.369468</td>\n",
       "      <td>0.110394</td>\n",
       "      <td>-0.028266</td>\n",
       "      <td>0.011803</td>\n",
       "      <td>1.79</td>\n",
       "      <td>0</td>\n",
       "    </tr>\n",
       "    <tr>\n",
       "      <th>215984</th>\n",
       "      <td>140308.0</td>\n",
       "      <td>-4.861747</td>\n",
       "      <td>-2.722660</td>\n",
       "      <td>-4.656248</td>\n",
       "      <td>2.502005</td>\n",
       "      <td>-2.008346</td>\n",
       "      <td>0.615422</td>\n",
       "      <td>-3.485680</td>\n",
       "      <td>1.878856</td>\n",
       "      <td>-1.116268</td>\n",
       "      <td>...</td>\n",
       "      <td>1.138876</td>\n",
       "      <td>1.033664</td>\n",
       "      <td>-0.806199</td>\n",
       "      <td>-1.511046</td>\n",
       "      <td>-0.191731</td>\n",
       "      <td>0.080999</td>\n",
       "      <td>1.215152</td>\n",
       "      <td>-0.923142</td>\n",
       "      <td>592.90</td>\n",
       "      <td>1</td>\n",
       "    </tr>\n",
       "    <tr>\n",
       "      <th>98891</th>\n",
       "      <td>66859.0</td>\n",
       "      <td>-2.349642</td>\n",
       "      <td>0.200796</td>\n",
       "      <td>0.885624</td>\n",
       "      <td>0.360821</td>\n",
       "      <td>-0.058513</td>\n",
       "      <td>-1.577691</td>\n",
       "      <td>0.657887</td>\n",
       "      <td>0.213853</td>\n",
       "      <td>-0.636051</td>\n",
       "      <td>...</td>\n",
       "      <td>-0.416789</td>\n",
       "      <td>-1.315058</td>\n",
       "      <td>-0.349873</td>\n",
       "      <td>0.714117</td>\n",
       "      <td>0.139631</td>\n",
       "      <td>0.019500</td>\n",
       "      <td>0.493997</td>\n",
       "      <td>-0.253080</td>\n",
       "      <td>135.58</td>\n",
       "      <td>0</td>\n",
       "    </tr>\n",
       "    <tr>\n",
       "      <th>7457</th>\n",
       "      <td>10135.0</td>\n",
       "      <td>1.155283</td>\n",
       "      <td>0.417287</td>\n",
       "      <td>0.412208</td>\n",
       "      <td>1.349081</td>\n",
       "      <td>-0.129768</td>\n",
       "      <td>-0.873308</td>\n",
       "      <td>0.276405</td>\n",
       "      <td>-0.399134</td>\n",
       "      <td>1.068081</td>\n",
       "      <td>...</td>\n",
       "      <td>-0.079084</td>\n",
       "      <td>0.020003</td>\n",
       "      <td>-0.144903</td>\n",
       "      <td>0.374440</td>\n",
       "      <td>0.690048</td>\n",
       "      <td>-0.376462</td>\n",
       "      <td>-0.013720</td>\n",
       "      <td>0.025088</td>\n",
       "      <td>52.50</td>\n",
       "      <td>0</td>\n",
       "    </tr>\n",
       "  </tbody>\n",
       "</table>\n",
       "<p>5 rows × 31 columns</p>\n",
       "</div>"
      ],
      "text/plain": [
       "            Time         V1        V2         V3        V4         V5  \\\n",
       "42958    41313.0 -13.897206  6.344280 -14.281666  5.581009 -12.887133   \n",
       "40952    40476.0   1.315771 -0.032971  -1.089771 -0.557242   2.030119   \n",
       "215984  140308.0  -4.861747 -2.722660  -4.656248  2.502005  -2.008346   \n",
       "98891    66859.0  -2.349642  0.200796   0.885624  0.360821  -0.058513   \n",
       "7457     10135.0   1.155283  0.417287   0.412208  1.349081  -0.129768   \n",
       "\n",
       "              V6         V7        V8        V9  ...       V21       V22  \\\n",
       "42958  -3.146176 -15.450467  9.060281 -5.486121  ...  3.058082  0.941180   \n",
       "40952   3.268061  -0.535246  0.808299 -0.052702  ... -0.313423 -1.068834   \n",
       "215984  0.615422  -3.485680  1.878856 -1.116268  ...  1.138876  1.033664   \n",
       "98891  -1.577691   0.657887  0.213853 -0.636051  ... -0.416789 -1.315058   \n",
       "7457   -0.873308   0.276405 -0.399134  1.068081  ... -0.079084  0.020003   \n",
       "\n",
       "             V23       V24       V25       V26       V27       V28  Amount  \\\n",
       "42958  -0.232710  0.763508  0.075456 -0.453840 -1.508968 -0.686836    9.99   \n",
       "40952   0.103964  0.992116  0.369468  0.110394 -0.028266  0.011803    1.79   \n",
       "215984 -0.806199 -1.511046 -0.191731  0.080999  1.215152 -0.923142  592.90   \n",
       "98891  -0.349873  0.714117  0.139631  0.019500  0.493997 -0.253080  135.58   \n",
       "7457   -0.144903  0.374440  0.690048 -0.376462 -0.013720  0.025088   52.50   \n",
       "\n",
       "        Class  \n",
       "42958       1  \n",
       "40952       0  \n",
       "215984      1  \n",
       "98891       0  \n",
       "7457        0  \n",
       "\n",
       "[5 rows x 31 columns]"
      ]
     },
     "execution_count": 6,
     "metadata": {},
     "output_type": "execute_result"
    }
   ],
   "source": [
    "print(len(df.loc[df['Class']==1]))\n",
    "\n",
    "# Shuffling and making the dataset equivalent\n",
    "df = df.sample(frac=1)\n",
    "fraud = df.loc[df['Class']==1]\n",
    "not_fraud = df.loc[df['Class'] == 0][:492]\n",
    "# Beacuse we know we have 492 fraud cases\n",
    "distributed_df = pd.concat([fraud, not_fraud])\n",
    "# shuffle\n",
    "new_df = distributed_df.sample(frac=1, random_state=0)\n",
    "new_df.head()"
   ]
  },
  {
   "cell_type": "markdown",
   "metadata": {},
   "source": [
    "Lets see how the new dataframe looks like."
   ]
  },
  {
   "cell_type": "code",
   "execution_count": 7,
   "metadata": {},
   "outputs": [
    {
     "data": {
      "image/png": "[encoded data removed]",
      "text/plain": [
       "<Figure size 432x288 with 1 Axes>"
      ]
     },
     "metadata": {
      "needs_background": "light"
     },
     "output_type": "display_data"
    }
   ],
   "source": [
    "sns.countplot('Class', data=new_df)\n",
    "plt.title(\"New Distributions\")\n",
    "plt.show()"
   ]
  },
  {
   "cell_type": "markdown",
   "metadata": {},
   "source": [
    "Lets finally scale the data.<br>\n",
    "Most of the data looks to be scaled however the Time and Amount feature need to be scaled.<br>\n",
    "`Note: Read that Robust Scalar performs much better in case of possible outliers`"
   ]
  },
  {
   "cell_type": "code",
   "execution_count": 8,
   "metadata": {},
   "outputs": [],
   "source": [
    "from sklearn.preprocessing import StandardScaler, RobustScaler\n",
    "amt_scaler = StandardScaler()\n",
    "time_scaler = RobustScaler()\n",
    "\n",
    "new_df['Time'] = time_scaler.fit_transform(new_df['Time'].values.reshape(-1, 1))\n",
    "new_df['Amount'] = time_scaler.fit_transform(new_df['Amount'].values.reshape(-1, 1))"
   ]
  },
  {
   "cell_type": "markdown",
   "metadata": {},
   "source": [
    "Lets now look at the realtion between the features."
   ]
  },
  {
   "cell_type": "code",
   "execution_count": 9,
   "metadata": {},
   "outputs": [
    {
     "data": {
      "image/png": "[encoded data removed]",
      "text/plain": [
       "<Figure size 432x288 with 2 Axes>"
      ]
     },
     "metadata": {
      "needs_background": "light"
     },
     "output_type": "display_data"
    }
   ],
   "source": [
    "corr = new_df.corr()\n",
    "sns.heatmap(corr)\n",
    "plt.title('Correlation Matrix')\n",
    "plt.show()"
   ]
  },
  {
   "cell_type": "markdown",
   "metadata": {},
   "source": [
    "The Correlation matrix does tell us a lot about the features, but perhaps not enough. I however will not be dwelling into them as I do not have much information about the type of data they represent.<br>\n",
    "`A good practice would have been to plot the highly correlated features to hopefully find something useful`"
   ]
  },
  {
   "cell_type": "markdown",
   "metadata": {},
   "source": [
    "# Making the model"
   ]
  },
  {
   "cell_type": "code",
   "execution_count": 10,
   "metadata": {},
   "outputs": [],
   "source": [
    "X = new_df.iloc[:, :-1].values\n",
    "y = new_df.iloc[:, -1].values\n",
    "\n",
    "from sklearn.model_selection import train_test_split\n",
    "X_train, X_test, y_train, y_test = train_test_split(X, y, test_size = 0.25)"
   ]
  },
  {
   "cell_type": "markdown",
   "metadata": {},
   "source": [
    "You could use Grid Search CV to find the best Classifier for the job.<br>\n",
    "I tested the below mentioned classifiers individually and found that Logistic Regression worked best, but please, don't take my word for it and give it a go yourself.<br>\n",
    "`Classifiers used:`<br>\n",
    "`classifiers = [\"Logistic Regression\", \"Knn\", \"SVM\", \"kernel SVM\", \"Naive bayes\",\"Decision Tree\", \"Random Forest\"]`"
   ]
  },
  {
   "cell_type": "markdown",
   "metadata": {},
   "source": [
    "I was going to use a few metrics quite a lot so I just made a function for it."
   ]
  },
  {
   "cell_type": "code",
   "execution_count": 11,
   "metadata": {},
   "outputs": [],
   "source": [
    "def metric(classifier, X_train, y_train, y_test, y_pred):\n",
    "    from sklearn.metrics import confusion_matrix\n",
    "    from sklearn.model_selection import cross_val_score\n",
    "    cm = confusion_matrix(y_test, y_pred)\n",
    "\n",
    "    # Applying k-Fold Cross Validation\n",
    "    accuracies = cross_val_score(classifier, X_train, y_train, cv=10, n_jobs=-1)\n",
    "    print(accuracies.mean())\n",
    "    print(accuracies.std())\n",
    "    return cm"
   ]
  },
  {
   "cell_type": "code",
   "execution_count": 12,
   "metadata": {
    "scrolled": true
   },
   "outputs": [
    {
     "name": "stdout",
     "output_type": "stream",
     "text": [
      "0.9444465012958163\n",
      "0.014133129877165347\n",
      "[[103   6]\n",
      " [ 10 127]]\n",
      "LogisticRegression()\n"
     ]
    }
   ],
   "source": [
    "from sklearn.linear_model import LogisticRegression\n",
    "classifier = LogisticRegression()\n",
    "classifier.fit(X_train, y_train)\n",
    "\n",
    "# Predicting test set using classifier\n",
    "y_pred = classifier.predict(X_test)\n",
    "cm = metric(classifier, X_train, y_train, y_test, y_pred)\n",
    "print(cm)\n",
    "print(classifier)"
   ]
  },
  {
   "cell_type": "markdown",
   "metadata": {},
   "source": [
    "To check for overfitting (Quite possible in this dataset) I took the help of the Cross Validation Score"
   ]
  },
  {
   "cell_type": "code",
   "execution_count": 13,
   "metadata": {},
   "outputs": [
    {
     "name": "stdout",
     "output_type": "stream",
     "text": [
      "Cross Validation Score 0.9444465012958163\n"
     ]
    }
   ],
   "source": [
    "from sklearn.model_selection import cross_val_score\n",
    "cvs = cross_val_score(classifier, X_train, y_train, cv=10)\n",
    "print(\"Cross Validation Score\", cvs.mean())"
   ]
  },
  {
   "cell_type": "markdown",
   "metadata": {},
   "source": [
    "The high accuracy and Cross Validation Score made me confident in the model."
   ]
  },
  {
   "cell_type": "code",
   "execution_count": 14,
   "metadata": {},
   "outputs": [
    {
     "name": "stdout",
     "output_type": "stream",
     "text": [
      "Logistic Regression:  0.9776192402456516\n"
     ]
    }
   ],
   "source": [
    "from sklearn.model_selection import cross_val_predict\n",
    "from sklearn.metrics import roc_auc_score\n",
    "prediction = cross_val_predict(classifier, X_train, y_train, cv=5, method=\"decision_function\")\n",
    "print('Logistic Regression: ', roc_auc_score(y_train, prediction))"
   ]
  },
  {
   "cell_type": "code",
   "execution_count": 15,
   "metadata": {},
   "outputs": [
    {
     "name": "stdout",
     "output_type": "stream",
     "text": [
      "Recall Score: 0.93\n",
      "Precision Score: 0.95\n",
      "F1 Score: 0.94\n",
      "Accuracy Score: 0.93\n"
     ]
    }
   ],
   "source": [
    "from sklearn.metrics import recall_score, precision_score, f1_score, accuracy_score\n",
    "print('Recall Score: {:.2f}'.format(recall_score(y_test, y_pred)))\n",
    "print('Precision Score: {:.2f}'.format(precision_score(y_test, y_pred)))\n",
    "print('F1 Score: {:.2f}'.format(f1_score(y_test, y_pred)))\n",
    "print('Accuracy Score: {:.2f}'.format(accuracy_score(y_test, y_pred)))"
   ]
  },
  {
   "cell_type": "markdown",
   "metadata": {},
   "source": [
    "But all these were done on the sample, how well would it do on the dataset as a whole?"
   ]
  },
  {
   "cell_type": "code",
   "execution_count": 16,
   "metadata": {},
   "outputs": [
    {
     "name": "stdout",
     "output_type": "stream",
     "text": [
      "[[275116   9199]\n",
      " [    38    454]]\n",
      "----------------------------------------\n",
      "Recall Score: 0.92\n",
      "Precision Score: 0.05\n",
      "F1 Score: 0.09\n",
      "Accuracy Score: 0.97\n"
     ]
    }
   ],
   "source": [
    "df['Time'] = time_scaler.fit_transform(df['Time'].values.reshape(-1, 1))\n",
    "df['Amount'] = time_scaler.fit_transform(df['Amount'].values.reshape(-1, 1))\n",
    "\n",
    "y_pred = classifier.predict(df.iloc[:, :-1].values)\n",
    "from sklearn.metrics import confusion_matrix\n",
    "cm = confusion_matrix(df.iloc[:, -1].values, y_pred)\n",
    "print(cm)\n",
    "print(\"-\"*40)\n",
    "print('Recall Score: {:.2f}'.format(recall_score(df.iloc[:, -1].values, y_pred)))\n",
    "print('Precision Score: {:.2f}'.format(precision_score(df.iloc[:, -1].values, y_pred)))\n",
    "print('F1 Score: {:.2f}'.format(f1_score(df.iloc[:, -1].values, y_pred)))\n",
    "print('Accuracy Score: {:.2f}'.format(accuracy_score(df.iloc[:, -1].values, y_pred)))"
   ]
  },
  {
   "cell_type": "markdown",
   "metadata": {},
   "source": [
    "### Confusion Matrix\n",
    "The confusion matrix shows us that the model performed well, and it did manage to find most of the fraudulent cases. No surprises there, but still the model could not correct flag quite a lot of cases from the fraudulent label (Type II error)\n",
    "### Precision Score and F1 Score\n",
    "The score in this case is abysmal, but that is due to the highly skewed nature of the dataset itself. The weighted average thus plumets the scores.\n",
    "\n",
    "`I still wonder if the model is overfitted`"
   ]
  },
  {
   "cell_type": "markdown",
   "metadata": {},
   "source": [
    "# Making a deep neural network\n",
    "\n",
    "Just to see how a artificial neural network would perform in comparison to the above model."
   ]
  },
  {
   "cell_type": "code",
   "execution_count": 17,
   "metadata": {},
   "outputs": [
    {
     "name": "stdout",
     "output_type": "stream",
     "text": [
      "Epoch 1/20\n",
      "24/24 [==============================] - 0s 8ms/step - loss: 1.1015 - accuracy: 0.5356 - val_loss: 0.4655 - val_accuracy: 0.7230\n",
      "Epoch 2/20\n",
      "24/24 [==============================] - 0s 3ms/step - loss: 0.4388 - accuracy: 0.7712 - val_loss: 0.4045 - val_accuracy: 0.8108\n",
      "Epoch 3/20\n",
      "24/24 [==============================] - 0s 3ms/step - loss: 0.3771 - accuracy: 0.8644 - val_loss: 0.3553 - val_accuracy: 0.8784\n",
      "Epoch 4/20\n",
      "24/24 [==============================] - 0s 3ms/step - loss: 0.3197 - accuracy: 0.9085 - val_loss: 0.3137 - val_accuracy: 0.9054\n",
      "Epoch 5/20\n",
      "24/24 [==============================] - 0s 3ms/step - loss: 0.2687 - accuracy: 0.9186 - val_loss: 0.2822 - val_accuracy: 0.9054\n",
      "Epoch 6/20\n",
      "24/24 [==============================] - 0s 3ms/step - loss: 0.2289 - accuracy: 0.9254 - val_loss: 0.2569 - val_accuracy: 0.9054\n",
      "Epoch 7/20\n",
      "24/24 [==============================] - 0s 3ms/step - loss: 0.1996 - accuracy: 0.9271 - val_loss: 0.2334 - val_accuracy: 0.9257\n",
      "Epoch 8/20\n",
      "24/24 [==============================] - 0s 3ms/step - loss: 0.1780 - accuracy: 0.9288 - val_loss: 0.2147 - val_accuracy: 0.9257\n",
      "Epoch 9/20\n",
      "24/24 [==============================] - 0s 3ms/step - loss: 0.1622 - accuracy: 0.9373 - val_loss: 0.2002 - val_accuracy: 0.9324\n",
      "Epoch 10/20\n",
      "24/24 [==============================] - 0s 3ms/step - loss: 0.1500 - accuracy: 0.9390 - val_loss: 0.1913 - val_accuracy: 0.9257\n",
      "Epoch 11/20\n",
      "24/24 [==============================] - 0s 3ms/step - loss: 0.1401 - accuracy: 0.9475 - val_loss: 0.1837 - val_accuracy: 0.9257\n",
      "Epoch 12/20\n",
      "24/24 [==============================] - 0s 3ms/step - loss: 0.1315 - accuracy: 0.9492 - val_loss: 0.1756 - val_accuracy: 0.9257\n",
      "Epoch 13/20\n",
      "24/24 [==============================] - 0s 3ms/step - loss: 0.1239 - accuracy: 0.9559 - val_loss: 0.1722 - val_accuracy: 0.9189\n",
      "Epoch 14/20\n",
      "24/24 [==============================] - 0s 3ms/step - loss: 0.1174 - accuracy: 0.9576 - val_loss: 0.1692 - val_accuracy: 0.9189\n",
      "Epoch 15/20\n",
      "24/24 [==============================] - 0s 3ms/step - loss: 0.1107 - accuracy: 0.9627 - val_loss: 0.1630 - val_accuracy: 0.9189\n",
      "Epoch 16/20\n",
      "24/24 [==============================] - 0s 3ms/step - loss: 0.1051 - accuracy: 0.9678 - val_loss: 0.1589 - val_accuracy: 0.9324\n",
      "Epoch 17/20\n",
      "24/24 [==============================] - 0s 3ms/step - loss: 0.0996 - accuracy: 0.9678 - val_loss: 0.1557 - val_accuracy: 0.9324\n",
      "Epoch 18/20\n",
      "24/24 [==============================] - 0s 3ms/step - loss: 0.0941 - accuracy: 0.9678 - val_loss: 0.1541 - val_accuracy: 0.9324\n",
      "Epoch 19/20\n",
      "24/24 [==============================] - 0s 3ms/step - loss: 0.0892 - accuracy: 0.9712 - val_loss: 0.1538 - val_accuracy: 0.9257\n",
      "Epoch 20/20\n",
      "24/24 [==============================] - 0s 3ms/step - loss: 0.0848 - accuracy: 0.9712 - val_loss: 0.1532 - val_accuracy: 0.9257\n",
      "8/8 [==============================] - 0s 2ms/step - loss: 0.1811 - accuracy: 0.9431\n",
      "Test loss: 0.1810719519853592\n",
      "Test accuracy: 0.9430894255638123\n"
     ]
    }
   ],
   "source": [
    "import keras\n",
    "from keras.models import Sequential\n",
    "from keras.layers import Dense\n",
    "\n",
    "# Initializing the ANN\n",
    "ann = Sequential()\n",
    "input_shape = X_train.shape[1]\n",
    "\n",
    "# Adding layers\n",
    "ann.add(keras.Input(shape = (input_shape, )))\n",
    "ann.add(Dense(32, activation = 'relu'))\n",
    "ann.add(Dense(16, activation = 'relu'))\n",
    "ann.add(Dense(2, activation = 'sigmoid'))\n",
    "\n",
    "# Compiling the classifier\n",
    "ann.compile(optimizer='adam', loss=\"sparse_categorical_crossentropy\",\n",
    "                   metrics=['accuracy'])\n",
    "\n",
    "ann.fit(X_train, y_train, validation_split=0.2, batch_size=25, epochs=20,\n",
    "        shuffle=True, validation_data = (X_test, y_test))\n",
    "\n",
    "# Scoring the model\n",
    "score = ann.evaluate(X_test, y_test)\n",
    "print('Test loss:', score[0])\n",
    "print('Test accuracy:', score[1])"
   ]
  },
  {
   "cell_type": "markdown",
   "metadata": {},
   "source": [
    "Making the we would get a probability of each class so choosing the threshold for the model can be critical. I eventually chose a lower threshold so as to minimize the number of type II errors, but the threshold can be fine tuned as per requirement."
   ]
  },
  {
   "cell_type": "code",
   "execution_count": 18,
   "metadata": {},
   "outputs": [
    {
     "name": "stdout",
     "output_type": "stream",
     "text": [
      "[[ 98  11]\n",
      " [  6 131]]\n"
     ]
    }
   ],
   "source": [
    "# Making the predictions\n",
    "y_pred = ann.predict(X_test)\n",
    "ann_pred = []\n",
    "for p in y_pred:\n",
    "    if p[0] > 0.35:\n",
    "        ann_pred.append(0)\n",
    "    else:\n",
    "        ann_pred.append(1)\n",
    "        \n",
    "\n",
    "# Making the Confusion Matrix\n",
    "from sklearn.metrics import confusion_matrix\n",
    "cm = confusion_matrix(y_test, ann_pred)\n",
    "print(cm)"
   ]
  },
  {
   "cell_type": "markdown",
   "metadata": {},
   "source": [
    "For comparision the confusion matrix for the Logistic Regression model: <br>\n",
    "[[123   8]<br>[  9 106]]"
   ]
  },
  {
   "cell_type": "markdown",
   "metadata": {},
   "source": [
    "We see that the overall accuracy in this case is so because we chose a low threshold for the Neural Network.<br>\n",
    "Let's see the accuracy if the threshold was 50%."
   ]
  },
  {
   "cell_type": "code",
   "execution_count": 19,
   "metadata": {},
   "outputs": [
    {
     "name": "stdout",
     "output_type": "stream",
     "text": [
      "[[ 93  16]\n",
      " [  5 132]]\n"
     ]
    }
   ],
   "source": [
    "y_pred = ann.predict(X_test)\n",
    "ann_pred = []\n",
    "for p in y_pred:\n",
    "    if p[0] > 0.5:\n",
    "        ann_pred.append(0)\n",
    "    else:\n",
    "        ann_pred.append(1)\n",
    "        \n",
    "\n",
    "# Making the Confusion Matrix\n",
    "from sklearn.metrics import confusion_matrix\n",
    "cm = confusion_matrix(y_test, ann_pred)\n",
    "print(cm)"
   ]
  },
  {
   "cell_type": "markdown",
   "metadata": {},
   "source": [
    "So you can see that choosing the right threshold for the predictions can be critical."
   ]
  },
  {
   "cell_type": "code",
   "execution_count": 20,
   "metadata": {},
   "outputs": [
    {
     "name": "stdout",
     "output_type": "stream",
     "text": [
      "---------------------------------------------\n",
      "Recall Score: 0.96\n",
      "Precision Score: 0.89\n",
      "F1 Score: 0.93\n",
      "Accuracy Score: 0.91\n",
      "[[252296  32019]\n",
      " [    19    473]]\n",
      "----------------------------------------\n",
      "Recall Score: 0.96\n",
      "Precision Score: 0.01\n",
      "F1 Score: 0.03\n",
      "Accuracy Score: 0.89\n"
     ]
    }
   ],
   "source": [
    "# Analysing the results\n",
    "print('-'*45)\n",
    "print('Recall Score: {:.2f}'.format(recall_score(y_test, ann_pred)))\n",
    "print('Precision Score: {:.2f}'.format(precision_score(y_test, ann_pred)))\n",
    "print('F1 Score: {:.2f}'.format(f1_score(y_test, ann_pred)))\n",
    "print('Accuracy Score: {:.2f}'.format(accuracy_score(y_test, ann_pred)))\n",
    "\n",
    "# placing the model onto the whole dataset\n",
    "y_pred = ann.predict(df.iloc[:, :-1].values)\n",
    "ann_pred = []\n",
    "for p in y_pred:\n",
    "    if p[0] > 0.35 :\n",
    "        ann_pred.append(0)\n",
    "    else:\n",
    "        ann_pred.append(1)\n",
    "\n",
    "cm = confusion_matrix(df.iloc[:, -1].values, ann_pred)\n",
    "print(cm)\n",
    "print(\"-\"*40)\n",
    "print('Recall Score: {:.2f}'.format(recall_score(df.iloc[:, -1].values, ann_pred)))\n",
    "print('Precision Score: {:.2f}'.format(precision_score(df.iloc[:, -1].values, ann_pred)))\n",
    "print('F1 Score: {:.2f}'.format(f1_score(df.iloc[:, -1].values, ann_pred)))\n",
    "print('Accuracy Score: {:.2f}'.format(accuracy_score(df.iloc[:, -1].values, ann_pred)))"
   ]
  },
  {
   "cell_type": "markdown",
   "metadata": {},
   "source": [
    "In this particular case we only missed a few Fraudulent cases. But the cost of flaging wat too many normal transactions as Fraud.<br> Let's again see what happens if we use a different threshold."
   ]
  },
  {
   "cell_type": "code",
   "execution_count": 21,
   "metadata": {},
   "outputs": [
    {
     "name": "stdout",
     "output_type": "stream",
     "text": [
      "[[230715  53600]\n",
      " [    10    482]]\n",
      "----------------------------------------\n",
      "Recall Score: 0.98\n",
      "Precision Score: 0.01\n",
      "F1 Score: 0.02\n",
      "Accuracy Score: 0.81\n"
     ]
    }
   ],
   "source": [
    "# placing the model onto the whole dataset\n",
    "y_pred = ann.predict(df.iloc[:, :-1].values)\n",
    "ann_pred = []\n",
    "for p in y_pred:\n",
    "    if p[0] > 0.5 :\n",
    "        ann_pred.append(0)\n",
    "    else:\n",
    "        ann_pred.append(1)\n",
    "\n",
    "cm = confusion_matrix(df.iloc[:, -1].values, ann_pred)\n",
    "print(cm)\n",
    "print(\"-\"*40)\n",
    "print('Recall Score: {:.2f}'.format(recall_score(df.iloc[:, -1].values, ann_pred)))\n",
    "print('Precision Score: {:.2f}'.format(precision_score(df.iloc[:, -1].values, ann_pred)))\n",
    "print('F1 Score: {:.2f}'.format(f1_score(df.iloc[:, -1].values, ann_pred)))\n",
    "print('Accuracy Score: {:.2f}'.format(accuracy_score(df.iloc[:, -1].values, ann_pred)))"
   ]
  },
  {
   "cell_type": "markdown",
   "metadata": {},
   "source": [
    "# Conclusion\n",
    "\n",
    "Implementing sub-sampling on our data was crucial to help us work with the highly imbalanced data. Yet still the Neural Network could not predict the cases well enough in comparrision to the Logisitic Regression. Removal of outliers and a much thorough cleaning of the dataset could have resulted in a much better model. <br>\n",
    "I still raise my concern for overfitting and will say that the number of fradulent cases aren't enough for me to have very high confidence in either of the models. <br>\n",
    "The Area Under the Precision-Recall Curve (AUPRC) and ROC can give insights to the models performance and I might add them later."
   ]
  }
 ],
 "metadata": {
  "kernelspec": {
   "display_name": "Python 3",
   "language": "python",
   "name": "python3"
  },
  "language_info": {
   "codemirror_mode": {
    "name": "ipython",
    "version": 3
   },
   "file_extension": ".py",
   "mimetype": "text/x-python",
   "name": "python",
   "nbconvert_exporter": "python",
   "pygments_lexer": "ipython3",
   "version": "3.8.3"
  }
 },
 "nbformat": 4,
 "nbformat_minor": 4
}
